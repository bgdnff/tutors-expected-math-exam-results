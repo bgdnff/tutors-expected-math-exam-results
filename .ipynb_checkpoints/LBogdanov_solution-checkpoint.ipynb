{
 "cells": [
  {
   "cell_type": "code",
   "execution_count": 1,
   "metadata": {},
   "outputs": [],
   "source": [
    "import numpy as np\n",
    "import pandas as pd\n",
    "from sklearn.model_selection import train_test_split\n",
    "import matplotlib.pyplot as plt\n",
    "import seaborn as sns"
   ]
  },
  {
   "cell_type": "code",
   "execution_count": 5,
   "metadata": {},
   "outputs": [],
   "source": [
    "TRAIN_DATASET_PATH = 'train.csv'\n",
    "TEST_DATASET_PATH = 'test.csv'\n",
    "PREDICTIONS_DATASET_PATH = 'LBogdanov_predictions.csv'"
   ]
  },
  {
   "cell_type": "code",
   "execution_count": 6,
   "metadata": {},
   "outputs": [],
   "source": [
    "df = pd.read_csv(TRAIN_DATASET_PATH)"
   ]
  },
  {
   "cell_type": "code",
   "execution_count": 174,
   "metadata": {},
   "outputs": [],
   "source": [
    "df_test = pd.read_csv(TEST_DATASET_PATH)"
   ]
  },
  {
   "cell_type": "code",
   "execution_count": 7,
   "metadata": {},
   "outputs": [
    {
     "data": {
      "text/plain": [
       "(10000, 12)"
      ]
     },
     "execution_count": 7,
     "metadata": {},
     "output_type": "execute_result"
    }
   ],
   "source": [
    "df.shape"
   ]
  },
  {
   "cell_type": "code",
   "execution_count": 8,
   "metadata": {},
   "outputs": [
    {
     "data": {
      "text/html": [
       "<div>\n",
       "<style scoped>\n",
       "    .dataframe tbody tr th:only-of-type {\n",
       "        vertical-align: middle;\n",
       "    }\n",
       "\n",
       "    .dataframe tbody tr th {\n",
       "        vertical-align: top;\n",
       "    }\n",
       "\n",
       "    .dataframe thead th {\n",
       "        text-align: right;\n",
       "    }\n",
       "</style>\n",
       "<table border=\"1\" class=\"dataframe\">\n",
       "  <thead>\n",
       "    <tr style=\"text-align: right;\">\n",
       "      <th></th>\n",
       "      <th>Id</th>\n",
       "      <th>age</th>\n",
       "      <th>years_of_experience</th>\n",
       "      <th>lesson_price</th>\n",
       "      <th>qualification</th>\n",
       "      <th>physics</th>\n",
       "      <th>chemistry</th>\n",
       "      <th>biology</th>\n",
       "      <th>english</th>\n",
       "      <th>geography</th>\n",
       "      <th>history</th>\n",
       "      <th>mean_exam_points</th>\n",
       "    </tr>\n",
       "  </thead>\n",
       "  <tbody>\n",
       "    <tr>\n",
       "      <th>0</th>\n",
       "      <td>0</td>\n",
       "      <td>40.0</td>\n",
       "      <td>0.0</td>\n",
       "      <td>1400.0</td>\n",
       "      <td>1.0</td>\n",
       "      <td>1.0</td>\n",
       "      <td>0.0</td>\n",
       "      <td>0.0</td>\n",
       "      <td>0.0</td>\n",
       "      <td>1.0</td>\n",
       "      <td>0.0</td>\n",
       "      <td>63.0</td>\n",
       "    </tr>\n",
       "    <tr>\n",
       "      <th>1</th>\n",
       "      <td>1</td>\n",
       "      <td>48.0</td>\n",
       "      <td>4.0</td>\n",
       "      <td>2850.0</td>\n",
       "      <td>3.0</td>\n",
       "      <td>1.0</td>\n",
       "      <td>0.0</td>\n",
       "      <td>0.0</td>\n",
       "      <td>0.0</td>\n",
       "      <td>0.0</td>\n",
       "      <td>0.0</td>\n",
       "      <td>86.0</td>\n",
       "    </tr>\n",
       "    <tr>\n",
       "      <th>2</th>\n",
       "      <td>2</td>\n",
       "      <td>39.0</td>\n",
       "      <td>0.0</td>\n",
       "      <td>1200.0</td>\n",
       "      <td>1.0</td>\n",
       "      <td>0.0</td>\n",
       "      <td>0.0</td>\n",
       "      <td>0.0</td>\n",
       "      <td>0.0</td>\n",
       "      <td>0.0</td>\n",
       "      <td>0.0</td>\n",
       "      <td>53.0</td>\n",
       "    </tr>\n",
       "    <tr>\n",
       "      <th>3</th>\n",
       "      <td>3</td>\n",
       "      <td>46.0</td>\n",
       "      <td>5.0</td>\n",
       "      <td>1400.0</td>\n",
       "      <td>1.0</td>\n",
       "      <td>0.0</td>\n",
       "      <td>0.0</td>\n",
       "      <td>0.0</td>\n",
       "      <td>0.0</td>\n",
       "      <td>0.0</td>\n",
       "      <td>0.0</td>\n",
       "      <td>56.0</td>\n",
       "    </tr>\n",
       "    <tr>\n",
       "      <th>4</th>\n",
       "      <td>4</td>\n",
       "      <td>43.0</td>\n",
       "      <td>1.0</td>\n",
       "      <td>1500.0</td>\n",
       "      <td>1.0</td>\n",
       "      <td>0.0</td>\n",
       "      <td>0.0</td>\n",
       "      <td>0.0</td>\n",
       "      <td>0.0</td>\n",
       "      <td>0.0</td>\n",
       "      <td>0.0</td>\n",
       "      <td>59.0</td>\n",
       "    </tr>\n",
       "    <tr>\n",
       "      <th>...</th>\n",
       "      <td>...</td>\n",
       "      <td>...</td>\n",
       "      <td>...</td>\n",
       "      <td>...</td>\n",
       "      <td>...</td>\n",
       "      <td>...</td>\n",
       "      <td>...</td>\n",
       "      <td>...</td>\n",
       "      <td>...</td>\n",
       "      <td>...</td>\n",
       "      <td>...</td>\n",
       "      <td>...</td>\n",
       "    </tr>\n",
       "    <tr>\n",
       "      <th>9995</th>\n",
       "      <td>9995</td>\n",
       "      <td>44.0</td>\n",
       "      <td>0.0</td>\n",
       "      <td>1700.0</td>\n",
       "      <td>2.0</td>\n",
       "      <td>1.0</td>\n",
       "      <td>1.0</td>\n",
       "      <td>0.0</td>\n",
       "      <td>0.0</td>\n",
       "      <td>0.0</td>\n",
       "      <td>0.0</td>\n",
       "      <td>78.0</td>\n",
       "    </tr>\n",
       "    <tr>\n",
       "      <th>9996</th>\n",
       "      <td>9996</td>\n",
       "      <td>51.0</td>\n",
       "      <td>0.0</td>\n",
       "      <td>1700.0</td>\n",
       "      <td>2.0</td>\n",
       "      <td>0.0</td>\n",
       "      <td>0.0</td>\n",
       "      <td>0.0</td>\n",
       "      <td>0.0</td>\n",
       "      <td>0.0</td>\n",
       "      <td>0.0</td>\n",
       "      <td>64.0</td>\n",
       "    </tr>\n",
       "    <tr>\n",
       "      <th>9997</th>\n",
       "      <td>9997</td>\n",
       "      <td>34.0</td>\n",
       "      <td>1.0</td>\n",
       "      <td>1250.0</td>\n",
       "      <td>1.0</td>\n",
       "      <td>1.0</td>\n",
       "      <td>0.0</td>\n",
       "      <td>0.0</td>\n",
       "      <td>0.0</td>\n",
       "      <td>0.0</td>\n",
       "      <td>0.0</td>\n",
       "      <td>58.0</td>\n",
       "    </tr>\n",
       "    <tr>\n",
       "      <th>9998</th>\n",
       "      <td>9998</td>\n",
       "      <td>33.0</td>\n",
       "      <td>3.0</td>\n",
       "      <td>1100.0</td>\n",
       "      <td>1.0</td>\n",
       "      <td>0.0</td>\n",
       "      <td>0.0</td>\n",
       "      <td>0.0</td>\n",
       "      <td>0.0</td>\n",
       "      <td>0.0</td>\n",
       "      <td>0.0</td>\n",
       "      <td>51.0</td>\n",
       "    </tr>\n",
       "    <tr>\n",
       "      <th>9999</th>\n",
       "      <td>9999</td>\n",
       "      <td>35.0</td>\n",
       "      <td>0.0</td>\n",
       "      <td>1450.0</td>\n",
       "      <td>1.0</td>\n",
       "      <td>0.0</td>\n",
       "      <td>0.0</td>\n",
       "      <td>0.0</td>\n",
       "      <td>0.0</td>\n",
       "      <td>0.0</td>\n",
       "      <td>0.0</td>\n",
       "      <td>59.0</td>\n",
       "    </tr>\n",
       "  </tbody>\n",
       "</table>\n",
       "<p>10000 rows × 12 columns</p>\n",
       "</div>"
      ],
      "text/plain": [
       "        Id   age  years_of_experience  lesson_price  qualification  physics  \\\n",
       "0        0  40.0                  0.0        1400.0            1.0      1.0   \n",
       "1        1  48.0                  4.0        2850.0            3.0      1.0   \n",
       "2        2  39.0                  0.0        1200.0            1.0      0.0   \n",
       "3        3  46.0                  5.0        1400.0            1.0      0.0   \n",
       "4        4  43.0                  1.0        1500.0            1.0      0.0   \n",
       "...    ...   ...                  ...           ...            ...      ...   \n",
       "9995  9995  44.0                  0.0        1700.0            2.0      1.0   \n",
       "9996  9996  51.0                  0.0        1700.0            2.0      0.0   \n",
       "9997  9997  34.0                  1.0        1250.0            1.0      1.0   \n",
       "9998  9998  33.0                  3.0        1100.0            1.0      0.0   \n",
       "9999  9999  35.0                  0.0        1450.0            1.0      0.0   \n",
       "\n",
       "      chemistry  biology  english  geography  history  mean_exam_points  \n",
       "0           0.0      0.0      0.0        1.0      0.0              63.0  \n",
       "1           0.0      0.0      0.0        0.0      0.0              86.0  \n",
       "2           0.0      0.0      0.0        0.0      0.0              53.0  \n",
       "3           0.0      0.0      0.0        0.0      0.0              56.0  \n",
       "4           0.0      0.0      0.0        0.0      0.0              59.0  \n",
       "...         ...      ...      ...        ...      ...               ...  \n",
       "9995        1.0      0.0      0.0        0.0      0.0              78.0  \n",
       "9996        0.0      0.0      0.0        0.0      0.0              64.0  \n",
       "9997        0.0      0.0      0.0        0.0      0.0              58.0  \n",
       "9998        0.0      0.0      0.0        0.0      0.0              51.0  \n",
       "9999        0.0      0.0      0.0        0.0      0.0              59.0  \n",
       "\n",
       "[10000 rows x 12 columns]"
      ]
     },
     "execution_count": 8,
     "metadata": {},
     "output_type": "execute_result"
    }
   ],
   "source": [
    "df"
   ]
  },
  {
   "cell_type": "code",
   "execution_count": 9,
   "metadata": {},
   "outputs": [
    {
     "name": "stdout",
     "output_type": "stream",
     "text": [
      "<class 'pandas.core.frame.DataFrame'>\n",
      "RangeIndex: 10000 entries, 0 to 9999\n",
      "Data columns (total 12 columns):\n",
      "Id                     10000 non-null int64\n",
      "age                    10000 non-null float64\n",
      "years_of_experience    10000 non-null float64\n",
      "lesson_price           10000 non-null float64\n",
      "qualification          10000 non-null float64\n",
      "physics                10000 non-null float64\n",
      "chemistry              10000 non-null float64\n",
      "biology                10000 non-null float64\n",
      "english                10000 non-null float64\n",
      "geography              10000 non-null float64\n",
      "history                10000 non-null float64\n",
      "mean_exam_points       10000 non-null float64\n",
      "dtypes: float64(11), int64(1)\n",
      "memory usage: 937.6 KB\n"
     ]
    }
   ],
   "source": [
    "df.info()"
   ]
  },
  {
   "cell_type": "code",
   "execution_count": 10,
   "metadata": {},
   "outputs": [
    {
     "data": {
      "text/html": [
       "<div>\n",
       "<style scoped>\n",
       "    .dataframe tbody tr th:only-of-type {\n",
       "        vertical-align: middle;\n",
       "    }\n",
       "\n",
       "    .dataframe tbody tr th {\n",
       "        vertical-align: top;\n",
       "    }\n",
       "\n",
       "    .dataframe thead th {\n",
       "        text-align: right;\n",
       "    }\n",
       "</style>\n",
       "<table border=\"1\" class=\"dataframe\">\n",
       "  <thead>\n",
       "    <tr style=\"text-align: right;\">\n",
       "      <th></th>\n",
       "      <th>Id</th>\n",
       "      <th>age</th>\n",
       "      <th>years_of_experience</th>\n",
       "      <th>lesson_price</th>\n",
       "      <th>qualification</th>\n",
       "      <th>physics</th>\n",
       "      <th>chemistry</th>\n",
       "      <th>biology</th>\n",
       "      <th>english</th>\n",
       "      <th>geography</th>\n",
       "      <th>history</th>\n",
       "      <th>mean_exam_points</th>\n",
       "    </tr>\n",
       "  </thead>\n",
       "  <tbody>\n",
       "    <tr>\n",
       "      <th>count</th>\n",
       "      <td>10000.00000</td>\n",
       "      <td>10000.000000</td>\n",
       "      <td>10000.000000</td>\n",
       "      <td>10000.000000</td>\n",
       "      <td>10000.000000</td>\n",
       "      <td>10000.000000</td>\n",
       "      <td>10000.000000</td>\n",
       "      <td>10000.000000</td>\n",
       "      <td>10000.000000</td>\n",
       "      <td>10000.000000</td>\n",
       "      <td>10000.000000</td>\n",
       "      <td>10000.000000</td>\n",
       "    </tr>\n",
       "    <tr>\n",
       "      <th>mean</th>\n",
       "      <td>4999.50000</td>\n",
       "      <td>45.878000</td>\n",
       "      <td>1.986800</td>\n",
       "      <td>1699.105000</td>\n",
       "      <td>1.719500</td>\n",
       "      <td>0.375000</td>\n",
       "      <td>0.132900</td>\n",
       "      <td>0.109600</td>\n",
       "      <td>0.053700</td>\n",
       "      <td>0.032100</td>\n",
       "      <td>0.019400</td>\n",
       "      <td>64.340800</td>\n",
       "    </tr>\n",
       "    <tr>\n",
       "      <th>std</th>\n",
       "      <td>2886.89568</td>\n",
       "      <td>8.043929</td>\n",
       "      <td>1.772213</td>\n",
       "      <td>524.886654</td>\n",
       "      <td>0.792264</td>\n",
       "      <td>0.484147</td>\n",
       "      <td>0.339484</td>\n",
       "      <td>0.312406</td>\n",
       "      <td>0.225436</td>\n",
       "      <td>0.176274</td>\n",
       "      <td>0.137933</td>\n",
       "      <td>13.536823</td>\n",
       "    </tr>\n",
       "    <tr>\n",
       "      <th>min</th>\n",
       "      <td>0.00000</td>\n",
       "      <td>23.000000</td>\n",
       "      <td>0.000000</td>\n",
       "      <td>200.000000</td>\n",
       "      <td>1.000000</td>\n",
       "      <td>0.000000</td>\n",
       "      <td>0.000000</td>\n",
       "      <td>0.000000</td>\n",
       "      <td>0.000000</td>\n",
       "      <td>0.000000</td>\n",
       "      <td>0.000000</td>\n",
       "      <td>32.000000</td>\n",
       "    </tr>\n",
       "    <tr>\n",
       "      <th>25%</th>\n",
       "      <td>2499.75000</td>\n",
       "      <td>40.000000</td>\n",
       "      <td>0.000000</td>\n",
       "      <td>1300.000000</td>\n",
       "      <td>1.000000</td>\n",
       "      <td>0.000000</td>\n",
       "      <td>0.000000</td>\n",
       "      <td>0.000000</td>\n",
       "      <td>0.000000</td>\n",
       "      <td>0.000000</td>\n",
       "      <td>0.000000</td>\n",
       "      <td>55.000000</td>\n",
       "    </tr>\n",
       "    <tr>\n",
       "      <th>50%</th>\n",
       "      <td>4999.50000</td>\n",
       "      <td>46.000000</td>\n",
       "      <td>2.000000</td>\n",
       "      <td>1500.000000</td>\n",
       "      <td>2.000000</td>\n",
       "      <td>0.000000</td>\n",
       "      <td>0.000000</td>\n",
       "      <td>0.000000</td>\n",
       "      <td>0.000000</td>\n",
       "      <td>0.000000</td>\n",
       "      <td>0.000000</td>\n",
       "      <td>63.000000</td>\n",
       "    </tr>\n",
       "    <tr>\n",
       "      <th>75%</th>\n",
       "      <td>7499.25000</td>\n",
       "      <td>51.000000</td>\n",
       "      <td>3.000000</td>\n",
       "      <td>2150.000000</td>\n",
       "      <td>2.000000</td>\n",
       "      <td>1.000000</td>\n",
       "      <td>0.000000</td>\n",
       "      <td>0.000000</td>\n",
       "      <td>0.000000</td>\n",
       "      <td>0.000000</td>\n",
       "      <td>0.000000</td>\n",
       "      <td>73.000000</td>\n",
       "    </tr>\n",
       "    <tr>\n",
       "      <th>max</th>\n",
       "      <td>9999.00000</td>\n",
       "      <td>68.000000</td>\n",
       "      <td>10.000000</td>\n",
       "      <td>3950.000000</td>\n",
       "      <td>4.000000</td>\n",
       "      <td>1.000000</td>\n",
       "      <td>1.000000</td>\n",
       "      <td>1.000000</td>\n",
       "      <td>1.000000</td>\n",
       "      <td>1.000000</td>\n",
       "      <td>1.000000</td>\n",
       "      <td>100.000000</td>\n",
       "    </tr>\n",
       "  </tbody>\n",
       "</table>\n",
       "</div>"
      ],
      "text/plain": [
       "                Id           age  years_of_experience  lesson_price  \\\n",
       "count  10000.00000  10000.000000         10000.000000  10000.000000   \n",
       "mean    4999.50000     45.878000             1.986800   1699.105000   \n",
       "std     2886.89568      8.043929             1.772213    524.886654   \n",
       "min        0.00000     23.000000             0.000000    200.000000   \n",
       "25%     2499.75000     40.000000             0.000000   1300.000000   \n",
       "50%     4999.50000     46.000000             2.000000   1500.000000   \n",
       "75%     7499.25000     51.000000             3.000000   2150.000000   \n",
       "max     9999.00000     68.000000            10.000000   3950.000000   \n",
       "\n",
       "       qualification       physics     chemistry       biology       english  \\\n",
       "count   10000.000000  10000.000000  10000.000000  10000.000000  10000.000000   \n",
       "mean        1.719500      0.375000      0.132900      0.109600      0.053700   \n",
       "std         0.792264      0.484147      0.339484      0.312406      0.225436   \n",
       "min         1.000000      0.000000      0.000000      0.000000      0.000000   \n",
       "25%         1.000000      0.000000      0.000000      0.000000      0.000000   \n",
       "50%         2.000000      0.000000      0.000000      0.000000      0.000000   \n",
       "75%         2.000000      1.000000      0.000000      0.000000      0.000000   \n",
       "max         4.000000      1.000000      1.000000      1.000000      1.000000   \n",
       "\n",
       "          geography       history  mean_exam_points  \n",
       "count  10000.000000  10000.000000      10000.000000  \n",
       "mean       0.032100      0.019400         64.340800  \n",
       "std        0.176274      0.137933         13.536823  \n",
       "min        0.000000      0.000000         32.000000  \n",
       "25%        0.000000      0.000000         55.000000  \n",
       "50%        0.000000      0.000000         63.000000  \n",
       "75%        0.000000      0.000000         73.000000  \n",
       "max        1.000000      1.000000        100.000000  "
      ]
     },
     "execution_count": 10,
     "metadata": {},
     "output_type": "execute_result"
    }
   ],
   "source": [
    "df.describe()"
   ]
  },
  {
   "cell_type": "markdown",
   "metadata": {
    "colab_type": "text",
    "id": "Tz-jh8-yZikp"
   },
   "source": [
    "**Выделение целевой переменной и групп признаков**"
   ]
  },
  {
   "cell_type": "code",
   "execution_count": 14,
   "metadata": {
    "colab": {},
    "colab_type": "code",
    "id": "60UUXkdLZikq"
   },
   "outputs": [],
   "source": [
    "TARGET_NAME = 'mean_exam_points'\n",
    "BASE_FEATURE_NAMES = df.columns.drop([TARGET_NAME, 'Id']).tolist()\n",
    "#NEW_FEATURE_NAMES = df.columns.drop([TARGET_NAME] + BASE_FEATURE_NAMES)"
   ]
  },
  {
   "cell_type": "markdown",
   "metadata": {
    "colab_type": "text",
    "id": "Hdfx0jA1Zikz"
   },
   "source": [
    "**Корреляция с базовыми признаками**"
   ]
  },
  {
   "cell_type": "code",
   "execution_count": 15,
   "metadata": {
    "colab": {},
    "colab_type": "code",
    "id": "zMV_QZ2uZik3",
    "outputId": "aeeffbef-a54f-40ee-a003-bef571853dad"
   },
   "outputs": [
    {
     "data": {
      "image/png": "[encoded data removed]",
      "text/plain": [
       "<Figure size 720x576 with 1 Axes>"
      ]
     },
     "metadata": {},
     "output_type": "display_data"
    }
   ],
   "source": [
    "#corr_with_target = df[BASE_FEATURE_NAMES + [TARGET_NAME]].corr().iloc[:-1, -1].sort_values(ascending=False)\n",
    "corr_with_target = df[BASE_FEATURE_NAMES + [TARGET_NAME]].corr().iloc[:-1, -1].sort_values(ascending=False)\n",
    "plt.figure(figsize=(10, 8))\n",
    "\n",
    "sns.barplot(x=corr_with_target.values, y=corr_with_target.index)\n",
    "\n",
    "plt.title('Correlation with target variable')\n",
    "plt.show()"
   ]
  },
  {
   "cell_type": "markdown",
   "metadata": {
    "colab_type": "text",
    "id": "zpHNRTiJZilh"
   },
   "source": [
    "### Анализ признакового пространства<a class=\"anchor\" id=\"features_analysis\"></a>"
   ]
  },
  {
   "cell_type": "markdown",
   "metadata": {
    "colab_type": "text",
    "id": "8iZCqR4vZili"
   },
   "source": [
    "**Матрица корреляций**"
   ]
  },
  {
   "cell_type": "code",
   "execution_count": 13,
   "metadata": {
    "colab": {},
    "colab_type": "code",
    "id": "pY46iZ-zZilj",
    "outputId": "63e4fccf-d0f2-4e1f-c06f-180f81ce5bef"
   },
   "outputs": [
    {
     "data": {
      "image/png": "[encoded data removed]",
      "text/plain": [
       "<Figure size 1800x1440 with 2 Axes>"
      ]
     },
     "metadata": {
      "needs_background": "light"
     },
     "output_type": "display_data"
    },
    {
     "name": "stdout",
     "output_type": "stream",
     "text": [
      "Wall time: 2.89 s\n"
     ]
    }
   ],
   "source": [
    "%%time\n",
    "plt.figure(figsize = (25,20))\n",
    "\n",
    "sns.set(font_scale=1.4)\n",
    "sns.heatmap(df[BASE_FEATURE_NAMES].corr().round(3), annot=True, linewidths=.5, cmap='GnBu')\n",
    "\n",
    "plt.title('Correlation matrix')\n",
    "plt.show()"
   ]
  },
  {
   "cell_type": "markdown",
   "metadata": {},
   "source": [
    "## Анализ и исправление признаков"
   ]
  },
  {
   "cell_type": "code",
   "execution_count": 16,
   "metadata": {},
   "outputs": [
    {
     "data": {
      "text/plain": [
       "<matplotlib.axes._subplots.AxesSubplot at 0x232a782e080>"
      ]
     },
     "execution_count": 16,
     "metadata": {},
     "output_type": "execute_result"
    },
    {
     "data": {
      "image/png": "[encoded data removed]",
      "text/plain": [
       "<Figure size 432x288 with 1 Axes>"
      ]
     },
     "metadata": {},
     "output_type": "display_data"
    }
   ],
   "source": [
    "df.qualification.hist(bins=40)"
   ]
  },
  {
   "cell_type": "code",
   "execution_count": 31,
   "metadata": {},
   "outputs": [
    {
     "data": {
      "text/plain": [
       "<matplotlib.axes._subplots.AxesSubplot at 0x232a85c1e10>"
      ]
     },
     "execution_count": 31,
     "metadata": {},
     "output_type": "execute_result"
    },
    {
     "data": {
      "image/png": "[encoded data removed]",
      "text/plain": [
       "<Figure size 432x288 with 1 Axes>"
      ]
     },
     "metadata": {},
     "output_type": "display_data"
    }
   ],
   "source": [
    "df.mean_exam_points[(df.qualification==3)&(df.mean_exam_points<60)].hist(bins=30)\n",
    "# обрезать этот хвост?"
   ]
  },
  {
   "cell_type": "code",
   "execution_count": 33,
   "metadata": {},
   "outputs": [
    {
     "data": {
      "text/plain": [
       "array([[<matplotlib.axes._subplots.AxesSubplot object at 0x00000232AB7222E8>,\n",
       "        <matplotlib.axes._subplots.AxesSubplot object at 0x00000232AB73E908>,\n",
       "        <matplotlib.axes._subplots.AxesSubplot object at 0x00000232AB75F2B0>],\n",
       "       [<matplotlib.axes._subplots.AxesSubplot object at 0x00000232AB779C18>,\n",
       "        <matplotlib.axes._subplots.AxesSubplot object at 0x00000232AB7975C0>,\n",
       "        <matplotlib.axes._subplots.AxesSubplot object at 0x00000232AB7B4F28>],\n",
       "       [<matplotlib.axes._subplots.AxesSubplot object at 0x00000232AB7DC898>,\n",
       "        <matplotlib.axes._subplots.AxesSubplot object at 0x00000232AB808278>,\n",
       "        <matplotlib.axes._subplots.AxesSubplot object at 0x00000232AB8082B0>],\n",
       "       [<matplotlib.axes._subplots.AxesSubplot object at 0x00000232AB856550>,\n",
       "        <matplotlib.axes._subplots.AxesSubplot object at 0x00000232AB879EB8>,\n",
       "        <matplotlib.axes._subplots.AxesSubplot object at 0x00000232AB8A3860>]],\n",
       "      dtype=object)"
      ]
     },
     "execution_count": 33,
     "metadata": {},
     "output_type": "execute_result"
    },
    {
     "data": {
      "image/png": "[encoded data removed]",
      "text/plain": [
       "<Figure size 432x288 with 12 Axes>"
      ]
     },
     "metadata": {},
     "output_type": "display_data"
    }
   ],
   "source": [
    "df[(df.qualification==3)&(df.mean_exam_points<60)].hist()"
   ]
  },
  {
   "cell_type": "code",
   "execution_count": 36,
   "metadata": {},
   "outputs": [
    {
     "data": {
      "text/plain": [
       "<matplotlib.axes._subplots.AxesSubplot at 0x232abb70390>"
      ]
     },
     "execution_count": 36,
     "metadata": {},
     "output_type": "execute_result"
    },
    {
     "data": {
      "image/png": "[encoded data removed]",
      "text/plain": [
       "<Figure size 432x288 with 1 Axes>"
      ]
     },
     "metadata": {},
     "output_type": "display_data"
    }
   ],
   "source": [
    "df.mean_exam_points[(df.qualification==1)&(df.mean_exam_points<160)].hist()"
   ]
  },
  {
   "cell_type": "markdown",
   "metadata": {},
   "source": [
    "# Построение дерева"
   ]
  },
  {
   "cell_type": "code",
   "execution_count": 41,
   "metadata": {
    "colab": {},
    "colab_type": "code",
    "id": "Duu45IJUabXi"
   },
   "outputs": [],
   "source": [
    "# Реализуем класс узла\n",
    "\n",
    "class Node:\n",
    "    \n",
    "    def __init__(self, index, t, left_branch, rigth_branch):\n",
    "        self.index = index  # индекс признака, по которому ведется сравнение с порогом в этом узле\n",
    "        self.t = t  # значение порога\n",
    "        self.left_branch = left_branch  # поддерево, удовлетворяющее условию в узле\n",
    "        self.rigth_branch = rigth_branch  # поддерево, не удовлетворяющее условию в узле"
   ]
  },
  {
   "cell_type": "code",
   "execution_count": 42,
   "metadata": {
    "colab": {},
    "colab_type": "code",
    "id": "QY8oNtakabXl"
   },
   "outputs": [],
   "source": [
    "# И класс терминального узла (листа)\n",
    "\n",
    "class Leaf:\n",
    "    \n",
    "    def __init__(self, data, targets):\n",
    "        self.data = data\n",
    "        self.targets = targets  # y_true\n",
    "        self.prediction = self.predict()  # y_pred\n",
    "        \n",
    "    def predict(self):\n",
    "        '''\n",
    "        # подсчет количества объектов разных классов\n",
    "        classes = {}  # сформируем словарь \"класс: количество объектов\"\n",
    "        for target in self.targets:\n",
    "            if target not in classes:\n",
    "                classes[target] = 0\n",
    "            classes[target] += 1\n",
    "        #  найдем класс, количество объектов которого будет максимальным в этом листе и вернем его    \n",
    "        prediction = max(classes, key=classes.get)\n",
    "        '''\n",
    "        prediction = np.mean(self.targets)\n",
    "        return prediction        "
   ]
  },
  {
   "cell_type": "code",
   "execution_count": 43,
   "metadata": {
    "colab": {},
    "colab_type": "code",
    "id": "uBdli3WDabXn"
   },
   "outputs": [],
   "source": [
    "# Расчет критерия Джини\n",
    "\n",
    "def gini(targets):\n",
    "    #  подсчет количества объектов разных классов\n",
    "    classes = {}\n",
    "    for target in targets:\n",
    "        if target not in classes:\n",
    "            classes[target] = 0\n",
    "        classes[target] += 1\n",
    "    \n",
    "    #  расчет критерия\n",
    "    impurity = 1     # \"impurity\" - \"нечистота\", степень неопределенности\n",
    "    for target in classes:\n",
    "        p = classes[target] / len(targets)\n",
    "        impurity -= p ** 2\n",
    "        \n",
    "    return impurity\n",
    "\n",
    "def disp(targets):\n",
    "    return np.var(targets)"
   ]
  },
  {
   "cell_type": "code",
   "execution_count": 44,
   "metadata": {
    "colab": {},
    "colab_type": "code",
    "id": "9vvLDhuRabXr"
   },
   "outputs": [],
   "source": [
    "# Расчет качества\n",
    "\n",
    "def quality(left_targets, right_targets, current_disp):\n",
    "\n",
    "    # доля выборки, ушедшей в левое поддерево\n",
    "    p = float(left_targets.shape[0]) / (left_targets.shape[0] + right_targets.shape[0])\n",
    "    \n",
    "    return current_disp - p * disp(left_targets) - (1 - p) * disp(right_targets)"
   ]
  },
  {
   "cell_type": "code",
   "execution_count": 295,
   "metadata": {
    "colab": {},
    "colab_type": "code",
    "id": "nhWkphi3abXt"
   },
   "outputs": [],
   "source": [
    "# Разбиение датасета в узле\n",
    "\n",
    "def split(data, targets, index, t):\n",
    "    #print(index, t)\n",
    "    #print(data[:, index])\n",
    "    left = (data.iloc[:, index] <= t)\n",
    "    right = (data.iloc[:, index] > t)\n",
    "        \n",
    "    left_data = data[left]\n",
    "    rigth_data = data[right]\n",
    "    left_targets = targets[left]\n",
    "    rigth_targets = targets[right]\n",
    "        \n",
    "    return left_data, rigth_data, left_targets, rigth_targets"
   ]
  },
  {
   "cell_type": "code",
   "execution_count": 296,
   "metadata": {
    "colab": {},
    "colab_type": "code",
    "id": "5wi8Fbs_abXw"
   },
   "outputs": [],
   "source": [
    "# Нахождение наилучшего разбиения\n",
    "\n",
    "def find_best_split(data, targets):\n",
    "    \n",
    "    #  обозначим минимальное количество объектов в узле\n",
    "    min_leaf = 5\n",
    "\n",
    "    current_disp = disp(targets)\n",
    "\n",
    "    best_quality = 0\n",
    "    best_t = None\n",
    "    best_index = None\n",
    "    \n",
    "    n_features = data.shape[1]\n",
    "    \n",
    "    for index in range(n_features):\n",
    "        t_values = data.iloc[:, index].unique()  #[row[index] for row in data]\n",
    "        \n",
    "        for t in t_values:\n",
    "            left_data, rigth_data, left_targets, rigth_targets = split(data, targets, index, t)\n",
    "            #  пропускаем разбиения, в которых в узле остается менее 5 объектов\n",
    "            if len(left_data) < min_leaf or len(rigth_data) < min_leaf:\n",
    "                continue\n",
    "            \n",
    "            current_quality = quality(left_targets, rigth_targets, current_disp)\n",
    "            \n",
    "            #  выбираем порог, на котором получается максимальный прирост качества\n",
    "            if current_quality > best_quality:\n",
    "                best_quality, best_t, best_index = current_quality, t, index\n",
    "\n",
    "    return best_quality, best_t, best_index"
   ]
  },
  {
   "cell_type": "code",
   "execution_count": 163,
   "metadata": {
    "colab": {},
    "colab_type": "code",
    "id": "f1__qSXSabXy"
   },
   "outputs": [],
   "source": [
    "# Построение дерева с помощью рекурсивной функции\n",
    "# *****************Добавим условия останова*************************************\n",
    "def stop_conditions(quality, depth):\n",
    "    return (quality == 0) or (depth == 0)\n",
    "\n",
    "def build_tree(data, targets, max_depth = 7):\n",
    "\n",
    "    quality, t, index = find_best_split(data, targets)\n",
    "\n",
    "    #  Базовый случай - прекращаем рекурсию, когда нет прироста в качества\n",
    "    if stop_conditions(quality, max_depth):   #quality == 0:\n",
    "        return Leaf(data, targets)\n",
    "\n",
    "    left_data, rigth_data, left_targets, rigth_targets = split(data, targets, index, t)\n",
    "\n",
    "    # Рекурсивно строим два поддерева\n",
    "    left_branch = build_tree(left_data, left_targets, max_depth-1)\n",
    "    rigth_branch = build_tree(rigth_data, rigth_targets, max_depth-1)\n",
    "\n",
    "    # Возвращаем класс узла со всеми поддеревьями, то есть целого дерева\n",
    "    return Node(index, t, left_branch, rigth_branch)"
   ]
  },
  {
   "cell_type": "code",
   "execution_count": 294,
   "metadata": {
    "colab": {},
    "colab_type": "code",
    "id": "F7ruKazCabX3"
   },
   "outputs": [],
   "source": [
    "# Проход объекта по дереву для его классификации\n",
    "\n",
    "def predict_object(obj, node):\n",
    "\n",
    "    #  Останавливаем рекурсию, если достигли листа\n",
    "    if isinstance(node, Leaf):\n",
    "        answer = node.prediction\n",
    "        return answer\n",
    "    #print(obj, '| ',obj[node.index],'|   ', node.t)\n",
    "    if obj[node.index] <= node.t:\n",
    "        return predict_object(obj, node.left_branch)\n",
    "    else:\n",
    "        return predict_object(obj, node.rigth_branch)\n"
   ]
  },
  {
   "cell_type": "code",
   "execution_count": 293,
   "metadata": {
    "colab": {},
    "colab_type": "code",
    "id": "SLOdTAqdabX7"
   },
   "outputs": [],
   "source": [
    "# Предсказание деревом для всего датасета\n",
    "\n",
    "def predict_tree(data, tree):\n",
    "    prediction = data.apply(lambda obj: predict_object(obj, tree), axis=1)\n",
    "    #classes = []\n",
    "    #for index in data.shape[1]:\n",
    "     #   print(data.iloc[index])\n",
    "      #  prediction.append(predict_object(data.iloc[index], tree))\n",
    "        #classes.append(prediction)\n",
    "    return prediction  #classes"
   ]
  },
  {
   "cell_type": "code",
   "execution_count": null,
   "metadata": {},
   "outputs": [],
   "source": []
  },
  {
   "cell_type": "markdown",
   "metadata": {},
   "source": [
    "# Градиентный бустинг"
   ]
  },
  {
   "cell_type": "code",
   "execution_count": 100,
   "metadata": {},
   "outputs": [],
   "source": [
    "def mean_squared_error(y_real, prediction):\n",
    "    return (sum((y_real - prediction)**2)) / len(y_real)"
   ]
  },
  {
   "cell_type": "code",
   "execution_count": 303,
   "metadata": {
    "colab": {},
    "colab_type": "code",
    "id": "wU_Rkc63bsiA"
   },
   "outputs": [],
   "source": [
    "def gb_predict(X, trees_list, coef_list, eta):\n",
    "    # Реализуемый алгоритм градиентного бустинга будет инициализироваться нулевыми значениями,\n",
    "    # поэтому все деревья из списка trees_list уже являются дополнительными и при предсказании прибавляются с шагом eta\n",
    "    #return np.array([sum([eta* coef * alg.predict([x])[0] for alg, coef in zip(trees_list, coef_list)]) for x in X])\n",
    "    #data.apply(lambda obj: predict_object(obj, tree), axis=1)\n",
    "    \n",
    "       \n",
    "    to_return = np.array(sum([eta* coef * predict_tree(X, tree) for tree, coef in zip(trees_list, coef_list)]))\n",
    "    \n",
    "    #to_return = np.array(X.apply(lambda x: sum([eta* coef * predict_object(x, tree) for tree, coef in zip(trees_list, coef_list)])))\n",
    "    print(f'---{to_return}')\n",
    "    print('*'*20)\n",
    "    return to_return"
   ]
  },
  {
   "cell_type": "code",
   "execution_count": 282,
   "metadata": {
    "colab": {},
    "colab_type": "code",
    "id": "WRaZEd3ebsiI"
   },
   "outputs": [],
   "source": [
    "def bias(y, z):\n",
    "    return (y - z)"
   ]
  },
  {
   "cell_type": "code",
   "execution_count": 315,
   "metadata": {
    "colab": {},
    "colab_type": "code",
    "id": "HoIdAoPYbsiL"
   },
   "outputs": [],
   "source": [
    "def gb_fit(n_trees, max_depth, X_train, X_test, y_train, y_test, coefs, eta):\n",
    "    \n",
    "    # Деревья будем записывать в список\n",
    "    trees = []\n",
    "    \n",
    "    # Будем записывать ошибки на обучающей и тестовой выборке на каждой итерации в список\n",
    "    train_errors = []\n",
    "    test_errors = []\n",
    "    \n",
    "    for i in range(n_trees):\n",
    "        #tree = DecisionTreeRegressor(max_depth=max_depth, random_state=42)\n",
    "\n",
    "        # инициализируем бустинг начальным алгоритмом, возвращающим ноль, \n",
    "        # поэтому первый алгоритм просто обучаем на выборке и добавляем в список\n",
    "        if len(trees) == 0:\n",
    "            # обучаем первое дерево на обучающей выборке\n",
    "            tree = build_tree(X_train, y_train, max_depth=max_depth) #.fit(X_train, y_train)\n",
    "            \n",
    "            train_errors.append(mean_squared_error(y_train, gb_predict(X_train, trees, coefs, eta)))\n",
    "            test_errors.append(mean_squared_error(y_test, gb_predict(X_test, trees, coefs, eta)))\n",
    "        else:\n",
    "            # Получим ответы на текущей композиции\n",
    "            target = gb_predict(X_train, trees, coefs, eta)\n",
    "            \n",
    "            # алгоритмы начиная со второго обучаем на сдвиг\n",
    "            tree = build_tree(X_train, bias(y_train, target), max_depth=max_depth)\n",
    "            \n",
    "            train_errors.append(mean_squared_error(y_train, gb_predict(X_train, trees, coefs, eta)))\n",
    "            test_errors.append(mean_squared_error(y_test, gb_predict(X_test, trees, coefs, eta)))\n",
    "\n",
    "        trees.append(tree)\n",
    "        print(f'tree №{i} done!')\n",
    "        \n",
    "    return trees, train_errors, test_errors"
   ]
  },
  {
   "cell_type": "markdown",
   "metadata": {},
   "source": [
    "# Построение и обучение моделей"
   ]
  },
  {
   "cell_type": "markdown",
   "metadata": {},
   "source": [
    "## Разбиение на train/test"
   ]
  },
  {
   "cell_type": "code",
   "execution_count": 374,
   "metadata": {},
   "outputs": [],
   "source": [
    "IMPORTANT_FEATURE_NAMES = ['years_of_experience', 'lesson_price', 'qualification', 'physics']   #'lesson_price', 'qualification',"
   ]
  },
  {
   "cell_type": "code",
   "execution_count": 375,
   "metadata": {},
   "outputs": [],
   "source": [
    "train_X, test_X, train_y, test_y = train_test_split(df[IMPORTANT_FEATURE_NAMES],\n",
    "                                                                    df[TARGET_NAME], \n",
    "                                                                    test_size = 0.3,\n",
    "                                                                    random_state = 1)"
   ]
  },
  {
   "cell_type": "code",
   "execution_count": 376,
   "metadata": {},
   "outputs": [],
   "source": [
    "# Построим дерево по обучающей выборке\n",
    "my_tree = build_tree(train_X, train_y, max_depth=6)"
   ]
  },
  {
   "cell_type": "code",
   "execution_count": 377,
   "metadata": {},
   "outputs": [],
   "source": [
    "# Получим ответы для обучающей выборки \n",
    "train_prediction = predict_tree(train_X, my_tree)"
   ]
  },
  {
   "cell_type": "code",
   "execution_count": 378,
   "metadata": {},
   "outputs": [],
   "source": [
    "# И получим ответы для тестовой выборки\n",
    "test_prediction = predict_tree(test_X, my_tree)"
   ]
  },
  {
   "cell_type": "code",
   "execution_count": 379,
   "metadata": {},
   "outputs": [
    {
     "name": "stdout",
     "output_type": "stream",
     "text": [
      "2228    69.384211\n",
      "5910    52.361111\n",
      "1950    52.361111\n",
      "2119    61.735192\n",
      "5947    62.711957\n",
      "          ...    \n",
      "2895    73.298851\n",
      "7813    52.361111\n",
      "905     79.959538\n",
      "5192    41.508021\n",
      "235     85.242775\n",
      "Length: 7000, dtype: float64\n",
      "9953    67.500000\n",
      "3850    64.860577\n",
      "4962    64.860577\n",
      "3886    79.959538\n",
      "5437    52.361111\n",
      "          ...    \n",
      "5273    51.830189\n",
      "8014    70.695652\n",
      "8984    55.460417\n",
      "6498    41.508021\n",
      "6327    41.508021\n",
      "Length: 3000, dtype: float64\n"
     ]
    }
   ],
   "source": [
    "print(train_prediction)\n",
    "print(test_prediction)"
   ]
  },
  {
   "cell_type": "code",
   "execution_count": 380,
   "metadata": {},
   "outputs": [
    {
     "name": "stdout",
     "output_type": "stream",
     "text": [
      "Ошибка алгоритма на тренировочной выборке: 39.32714098451425\n",
      "Ошибка алгоритма на тестовой выборке: 42.61174700554867\n"
     ]
    }
   ],
   "source": [
    "print(f'Ошибка алгоритма на тренировочной выборке: {mean_squared_error(train_y, train_prediction)}')\n",
    "print(f'Ошибка алгоритма на тестовой выборке: {mean_squared_error(test_y, test_prediction)}')"
   ]
  },
  {
   "cell_type": "code",
   "execution_count": null,
   "metadata": {},
   "outputs": [],
   "source": [
    "n_trees = 2"
   ]
  },
  {
   "cell_type": "code",
   "execution_count": null,
   "metadata": {},
   "outputs": [],
   "source": [
    "my_forest_ = random_forest(train_data, train_labels, n_trees)"
   ]
  },
  {
   "cell_type": "code",
   "execution_count": null,
   "metadata": {},
   "outputs": [],
   "source": []
  },
  {
   "cell_type": "code",
   "execution_count": 406,
   "metadata": {},
   "outputs": [
    {
     "name": "stdout",
     "output_type": "stream",
     "text": [
      "---0\n",
      "********************\n",
      "---0\n",
      "********************\n",
      "tree №0 done!\n",
      "---[41.63052632 31.41666667 31.41666667 ... 47.97572254 24.90481283\n",
      " 51.14566474]\n",
      "********************\n",
      "---[41.63052632 31.41666667 31.41666667 ... 47.97572254 24.90481283\n",
      " 51.14566474]\n",
      "********************\n",
      "---[40.5        38.91634615 38.91634615 ... 33.27625    24.90481283\n",
      " 24.90481283]\n",
      "********************\n",
      "tree №1 done!\n",
      "---[57.23145056 42.72666667 42.72666667 ... 65.25769835 33.09282407\n",
      " 69.6700884 ]\n",
      "********************\n",
      "---[57.23145056 42.72666667 42.72666667 ... 65.25769835 33.09282407\n",
      " 69.6700884 ]\n",
      "********************\n",
      "---[53.35121719 52.7456678  52.7456678  ... 44.86071986 33.09282407\n",
      " 35.14252139]\n",
      "********************\n",
      "tree №2 done!\n",
      "---[63.65622153 47.62170999 47.62170999 ... 72.46783188 37.53047628\n",
      " 77.27407556]\n",
      "********************\n",
      "---[63.65622153 47.62170999 47.62170999 ... 72.46783188 37.53047628\n",
      " 77.27407556]\n",
      "********************\n",
      "---[58.25650685 58.58290521 58.58290521 ... 49.81989398 37.53047628\n",
      " 39.5801736 ]\n",
      "********************\n",
      "tree №3 done!\n",
      "---[66.14070229 49.87152656 49.87152656 ... 75.73294158 39.50446802\n",
      " 80.83755045]\n",
      "********************\n",
      "---[66.14070229 49.87152656 49.87152656 ... 75.73294158 39.50446802\n",
      " 80.83755045]\n",
      "********************\n",
      "---[60.74098761 61.21895131 61.21895131 ... 52.25429031 39.50446802\n",
      " 41.55416534]\n",
      "********************\n",
      "tree №4 done!\n",
      "---[67.92568086 51.07704977 51.07704977 ... 77.40095151 39.87069642\n",
      " 82.6681664 ]\n",
      "********************\n",
      "---[67.92568086 51.07704977 51.07704977 ... 77.40095151 39.87069642\n",
      " 82.6681664 ]\n",
      "********************\n",
      "---[61.80753941 62.7712357  62.7712357  ... 53.43560476 39.87069642\n",
      " 43.06934982]\n",
      "********************\n",
      "tree №5 done!\n",
      "---[68.6367431  51.67091609 51.67091609 ... 78.32636487 40.46456274\n",
      " 83.59357976]\n",
      "********************\n",
      "---[68.6367431  51.67091609 51.67091609 ... 78.32636487 40.46456274\n",
      " 83.59357976]\n",
      "********************\n",
      "---[62.51860165 63.47492953 63.48584141 ... 54.02947108 40.46456274\n",
      " 43.66321614]\n",
      "********************\n",
      "tree №6 done!\n",
      "---[69.11661958 52.12213987 52.12213987 ... 79.08985953 40.77673296\n",
      " 84.16614802]\n",
      "********************\n",
      "---[69.11661958 52.12213987 52.12213987 ... 79.08985953 40.77673296\n",
      " 84.16614802]\n",
      "********************\n",
      "---[62.83077188 63.95480601 63.96571788 ... 54.48069486 40.77673296\n",
      " 43.97538637]\n",
      "********************\n",
      "tree №7 done!\n",
      "---[69.37598406 52.85139856 52.18205754 ... 79.42193764 40.93364596\n",
      " 84.49822614]\n",
      "********************\n",
      "---[69.37598406 52.85139856 52.18205754 ... 79.42193764 40.93364596\n",
      " 84.49822614]\n",
      "********************\n",
      "---[62.98768488 64.21417049 64.25407862 ... 54.67591672 40.93364596\n",
      " 44.13229937]\n",
      "********************\n",
      "tree №8 done!\n",
      "---[69.54134807 52.98694879 52.31760777 ... 79.64270967 41.0691962\n",
      " 84.71899816]\n",
      "********************\n",
      "---[69.54134807 52.98694879 52.31760777 ... 79.64270967 41.0691962\n",
      " 84.71899816]\n",
      "********************\n",
      "---[63.15304889 64.34972072 64.38962885 ... 54.81146695 41.0691962\n",
      " 44.2678496 ]\n",
      "********************\n",
      "tree №9 done!\n",
      "---[70.11734378 53.17912512 52.30079223 ... 79.90057985 40.91894172\n",
      " 84.89302882]\n",
      "********************\n",
      "---[70.11734378 53.17912512 52.30079223 ... 79.90057985 40.91894172\n",
      " 84.89302882]\n",
      "********************\n",
      "---[63.35526831 64.37289228 64.51954925 ... 54.96467958 40.91894172\n",
      " 44.66145148]\n",
      "********************\n",
      "tree №10 done!\n",
      "---[70.20631461 53.48962592 52.33335023 ... 79.98955068 40.95149972\n",
      " 84.98199965]\n",
      "********************\n",
      "---[70.20631461 53.48962592 52.33335023 ... 79.98955068 40.95149972\n",
      " 84.98199965]\n",
      "********************\n",
      "---[63.45559789 64.46186311 64.60852008 ... 55.09229909 40.95149972\n",
      " 44.69400948]\n",
      "********************\n",
      "tree №11 done!\n",
      "---[70.25457265 53.53788396 52.38160827 ... 80.04592445 40.99975776\n",
      " 85.06240201]\n",
      "********************\n",
      "---[70.25457265 53.53788396 52.38160827 ... 80.04592445 40.99975776\n",
      " 85.06240201]\n",
      "********************\n",
      "---[63.50385593 64.51012115 64.65677812 ... 55.14055712 40.99975776\n",
      " 44.74226751]\n",
      "********************\n",
      "tree №12 done!\n",
      "---[70.30282707 53.72859515 52.37302013 ... 80.07512015 41.02895346\n",
      " 85.11065643]\n",
      "********************\n",
      "---[70.30282707 53.72859515 52.37302013 ... 80.07512015 41.02895346\n",
      " 85.11065643]\n",
      "********************\n",
      "---[63.55211035 64.53931685 64.68597382 ... 55.16975283 41.02895346\n",
      " 44.77146321]\n",
      "********************\n",
      "tree №13 done!\n"
     ]
    }
   ],
   "source": [
    "# Число деревьев в ансамбле\n",
    "n_trees = 14\n",
    "\n",
    "\n",
    "# для простоты примем коэффициенты равными 1\n",
    "coefs = [0.9**p for p in range(n_trees)] # [1] * n_trees\n",
    "\n",
    "# Максимальная глубина деревьев\n",
    "max_depth = 6\n",
    "\n",
    "# Шаг\n",
    "eta = 0.6\n",
    "\n",
    "trees, train_errors, test_errors = gb_fit(n_trees, max_depth, train_X, test_X, train_y, test_y, coefs, eta)"
   ]
  },
  {
   "cell_type": "code",
   "execution_count": 382,
   "metadata": {
    "colab": {},
    "colab_type": "code",
    "id": "gjDdKkgObsif"
   },
   "outputs": [],
   "source": [
    "def get_error_plot(n_trees, train_err, test_err):\n",
    "    plt.xlabel('Iteration number')\n",
    "    plt.ylabel('MSE')\n",
    "    plt.xlim(0, n_trees)\n",
    "    plt.ylim(0, 100)\n",
    "    plt.plot(list(range(n_trees)), train_err, label='train error')\n",
    "    plt.plot(list(range(n_trees)), test_err, label='test error')\n",
    "    plt.legend(loc='upper right')\n",
    "    plt.show()"
   ]
  },
  {
   "cell_type": "code",
   "execution_count": 407,
   "metadata": {
    "colab": {},
    "colab_type": "code",
    "id": "Was5hOJPbsih",
    "outputId": "e4a4837d-6d3e-4861-8a35-fa26d5746f62"
   },
   "outputs": [
    {
     "data": {
      "image/png": "[encoded data removed]",
      "text/plain": [
       "<Figure size 432x288 with 1 Axes>"
      ]
     },
     "metadata": {},
     "output_type": "display_data"
    }
   ],
   "source": [
    "get_error_plot(n_trees, train_errors, test_errors)"
   ]
  },
  {
   "cell_type": "code",
   "execution_count": 384,
   "metadata": {
    "colab": {},
    "colab_type": "code",
    "id": "GDMFn3R-bsiR"
   },
   "outputs": [],
   "source": [
    "def evaluate_alg(X_train, X_test, y_train, y_test, trees, coefs, eta):\n",
    "    train_prediction = gb_predict(X_train, trees, coefs, eta)\n",
    "\n",
    "    print(f'Ошибка алгоритма из {n_trees} деревьев глубиной {max_depth} \\\n",
    "    с шагом {eta} на тренировочной выборке: {mean_squared_error(y_train, train_prediction)}')\n",
    "\n",
    "    test_prediction = gb_predict(X_test, trees, coefs, eta)\n",
    "\n",
    "    print(f'Ошибка алгоритма из {n_trees} деревьев глубиной {max_depth} \\\n",
    "    с шагом {eta} на тестовой выборке: {mean_squared_error(y_test, test_prediction)}')"
   ]
  },
  {
   "cell_type": "code",
   "execution_count": 408,
   "metadata": {
    "colab": {},
    "colab_type": "code",
    "id": "WEBbjCynbsiV",
    "outputId": "e3e7bf19-aa15-4340-eceb-e2799f36140c"
   },
   "outputs": [
    {
     "name": "stdout",
     "output_type": "stream",
     "text": [
      "---[70.32941841 53.75518649 52.39961146 ... 80.10730238 41.0555448\n",
      " 85.17330429]\n",
      "********************\n",
      "Ошибка алгоритма из 14 деревьев глубиной 6     с шагом 0.6 на тренировочной выборке: 36.16274702385252\n",
      "---[63.57870169 64.56590818 64.71256516 ... 55.19634416 41.0555448\n",
      " 44.79805455]\n",
      "********************\n",
      "Ошибка алгоритма из 14 деревьев глубиной 6     с шагом 0.6 на тестовой выборке: 41.72518915998799\n"
     ]
    }
   ],
   "source": [
    "evaluate_alg(train_X, test_X, train_y, test_y, trees, coefs, eta)"
   ]
  },
  {
   "cell_type": "markdown",
   "metadata": {},
   "source": [
    "# Получение итогового результата"
   ]
  },
  {
   "cell_type": "code",
   "execution_count": 409,
   "metadata": {},
   "outputs": [
    {
     "name": "stdout",
     "output_type": "stream",
     "text": [
      "---[53.81540587 63.25872899 49.85665804 ... 52.56519428 64.67732215\n",
      " 71.13203723]\n",
      "********************\n"
     ]
    }
   ],
   "source": [
    "final_prediction = pd.DataFrame(gb_predict(df_test[IMPORTANT_FEATURE_NAMES], trees, coefs, eta), columns=['mean_exam_points'], index=range(10000))\n",
    "#final_prediction = pd.DataFrame(predict_tree(df_test[BASE_FEATURE_NAMES], my_tree), columns=['mean_exam_points'], index=range(10000))"
   ]
  },
  {
   "cell_type": "code",
   "execution_count": 410,
   "metadata": {},
   "outputs": [
    {
     "data": {
      "text/html": [
       "<div>\n",
       "<style scoped>\n",
       "    .dataframe tbody tr th:only-of-type {\n",
       "        vertical-align: middle;\n",
       "    }\n",
       "\n",
       "    .dataframe tbody tr th {\n",
       "        vertical-align: top;\n",
       "    }\n",
       "\n",
       "    .dataframe thead th {\n",
       "        text-align: right;\n",
       "    }\n",
       "</style>\n",
       "<table border=\"1\" class=\"dataframe\">\n",
       "  <thead>\n",
       "    <tr style=\"text-align: right;\">\n",
       "      <th></th>\n",
       "      <th>mean_exam_points</th>\n",
       "    </tr>\n",
       "  </thead>\n",
       "  <tbody>\n",
       "    <tr>\n",
       "      <th>0</th>\n",
       "      <td>53.815406</td>\n",
       "    </tr>\n",
       "    <tr>\n",
       "      <th>1</th>\n",
       "      <td>63.258729</td>\n",
       "    </tr>\n",
       "    <tr>\n",
       "      <th>2</th>\n",
       "      <td>49.856658</td>\n",
       "    </tr>\n",
       "    <tr>\n",
       "      <th>3</th>\n",
       "      <td>90.738198</td>\n",
       "    </tr>\n",
       "    <tr>\n",
       "      <th>4</th>\n",
       "      <td>89.142989</td>\n",
       "    </tr>\n",
       "    <tr>\n",
       "      <th>...</th>\n",
       "      <td>...</td>\n",
       "    </tr>\n",
       "    <tr>\n",
       "      <th>9995</th>\n",
       "      <td>41.055545</td>\n",
       "    </tr>\n",
       "    <tr>\n",
       "      <th>9996</th>\n",
       "      <td>79.521414</td>\n",
       "    </tr>\n",
       "    <tr>\n",
       "      <th>9997</th>\n",
       "      <td>52.565194</td>\n",
       "    </tr>\n",
       "    <tr>\n",
       "      <th>9998</th>\n",
       "      <td>64.677322</td>\n",
       "    </tr>\n",
       "    <tr>\n",
       "      <th>9999</th>\n",
       "      <td>71.132037</td>\n",
       "    </tr>\n",
       "  </tbody>\n",
       "</table>\n",
       "<p>10000 rows × 1 columns</p>\n",
       "</div>"
      ],
      "text/plain": [
       "      mean_exam_points\n",
       "0            53.815406\n",
       "1            63.258729\n",
       "2            49.856658\n",
       "3            90.738198\n",
       "4            89.142989\n",
       "...                ...\n",
       "9995         41.055545\n",
       "9996         79.521414\n",
       "9997         52.565194\n",
       "9998         64.677322\n",
       "9999         71.132037\n",
       "\n",
       "[10000 rows x 1 columns]"
      ]
     },
     "execution_count": 410,
     "metadata": {},
     "output_type": "execute_result"
    }
   ],
   "source": [
    "final_prediction"
   ]
  },
  {
   "cell_type": "code",
   "execution_count": 411,
   "metadata": {},
   "outputs": [],
   "source": [
    "final_prediction['ID'] = final_prediction.index.tolist()"
   ]
  },
  {
   "cell_type": "code",
   "execution_count": 412,
   "metadata": {},
   "outputs": [],
   "source": [
    "final_prediction['ID'] = final_prediction['ID']+10000"
   ]
  },
  {
   "cell_type": "code",
   "execution_count": 413,
   "metadata": {},
   "outputs": [],
   "source": [
    "final_prediction[['ID', TARGET_NAME]].to_csv(PREDICTIONS_DATASET_PATH, index=False)"
   ]
  },
  {
   "cell_type": "code",
   "execution_count": null,
   "metadata": {},
   "outputs": [],
   "source": []
  }
 ],
 "metadata": {
  "kernelspec": {
   "display_name": "Python 3",
   "language": "python",
   "name": "python3"
  },
  "language_info": {
   "codemirror_mode": {
    "name": "ipython",
    "version": 3
   },
   "file_extension": ".py",
   "mimetype": "text/x-python",
   "name": "python",
   "nbconvert_exporter": "python",
   "pygments_lexer": "ipython3",
   "version": "3.7.1"
  }
 },
 "nbformat": 4,
 "nbformat_minor": 2
}
